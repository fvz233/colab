
{
  "cells": [
    
    
    {
      "cell_type": "markdown",
      "metadata": {
        "id": "oC3OE5XqyJPr"
      },
      "source": [
        "Enter you username and public key (can be found under profile>keys)\n",
        "You have to run this block as well"
      ]
    },
    {
      "cell_type": "code",
      "execution_count": 3,
      "metadata": {
        "id": "HvfliuWddB2H",
        "vscode": {
          "languageId": "python"
        },
        "cellView": "form"
      },
      "outputs": [],
      "source": [
        "#@title Setup\n",
        "#@markdown Enter some dogshit\n",
        "username = \"semilon\" #@param {type: \"string\"}\n",
        "key = \"2HWQhl8p9yu0bp5cZ24cHQFrVyE7xmaKrO1wyEEi\" #@param {type: \"string\"}\n",
        "computemethod = \"GPU\" #@param [\"GPU\", \"CPU\"] {allow-input: false}\n",
        "downloadUrl = \"https://github.com/fvz233/colab/raw/main/client.jar\"\n",
        "#@markdown ---\n",
        "!wget $downloadUrl -O client.jar\n"
      ]
    },
    {
      "cell_type": "markdown",
      "metadata": {
        "id": "3rYxBLeaeSA2"
      },
      "source": [
        "# **Run this to start**"
      ]
    },
    {
      "cell_type": "code",
      "execution_count": 4,
      "metadata": {
        "id": "KbE3Ex53eX0J",
        "vscode": {
          "languageId": "python"
        },
        "colab": {
          "base_uri": "https://localhost:8080/"
        },
        "outputId": "733e8399-67bb-4320-9b65-ff112121cc7b"
      },
      "outputs": [
        {
          "output_type": "stream",
          "name": "stdout",
          "text": [
            
          ]
        }
      ],
      "source": [
        "if computemethod == \"CPU\":\n",
        "    !java -jar client.jar -ui oneLine/text -cache-dir /content/cache -compute-method $computemethod -login $username -password $key -ui text\n",
        "else:\n",
        "    !java -jar client.jar -ui oneLine/text -cache-dir /content/cache -compute-method GPU -gpu OPTIX_0 -login $username -password $key -ui text"
      ]
    }
  ],
  "metadata": {
    "accelerator": "GPU",
    "colab": {
      "name": "sheepit on web.ipynb",
      "provenance": []
    },
    "kernelspec": {
      "display_name": "Python 3",
      "name": "python3"
    }
  },
  "nbformat": 4,
  "nbformat_minor": 0
}
