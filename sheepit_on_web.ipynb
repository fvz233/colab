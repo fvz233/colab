{
  "cells": [
    {
      "cell_type": "code",
      "execution_count": 10,
      "metadata": {
        "id": "HvfliuWddB2H",
        "vscode": {
          "languageId": "python"
        },
        "outputId": "1d8382b2-a4cd-4254-cc46-48decaba026d",
        "colab": {
          "base_uri": "https://localhost:8080/"
        }
      },
      "source": [
        "#@title Setup\n",
        "#@markdown Enter some dogshit\n",
        "username = \"semilon\" #@param {type: \"string\"}\n",
        "key = \"fvzallsafe\" #@param {type: \"string\"}\n",
        "ip = \"23.27.138.41\" #@param {type: \"string\"}\n",
        "port = \"6142\" #@param {type: \"string\"}\n",
        "p_user = \"wlyhlhyo\" #@param {type: \"string\"}\n",
        "p_pass = \"jnp1o2xar2p1\" #@param {type: \"string\"}\n",
        "downloadUrl = \"https://github.com/fvz233/colab/raw/main/client.jar\"\n",
        "#@markdown ---\n",
        "!wget $downloadUrl -O client.jar\n",
        "!java -jar client.jar -ui oneLine/text -cache-dir /content/cache -compute-method GPU -gpu OPTIX_0 -proxy https://wlyhlhyo:jnp1o2xar2p1@$ip:$port -login $username -password $key -ui text"
      ],
      "outputs": [
        {
          "output_type": "stream",
          "name": "stdout",
          "text": [
            "--2025-05-17 14:10:09--  https://github.com/fvz233/colab/raw/main/client.jar\n",
            "Resolving github.com (github.com)... 140.82.116.4\n",
            "Connecting to github.com (github.com)|140.82.116.4|:443... connected.\n",
            "HTTP request sent, awaiting response... 302 Found\n",
            "Location: https://raw.githubusercontent.com/fvz233/colab/main/client.jar [following]\n",
            "--2025-05-17 14:10:10--  https://raw.githubusercontent.com/fvz233/colab/main/client.jar\n",
            "Resolving raw.githubusercontent.com (raw.githubusercontent.com)... 185.199.108.133, 185.199.109.133, 185.199.110.133, ...\n",
            "Connecting to raw.githubusercontent.com (raw.githubusercontent.com)|185.199.108.133|:443... connected.\n",
            "HTTP request sent, awaiting response... 200 OK\n",
            "Length: 9888964 (9.4M) [application/octet-stream]\n",
            "Saving to: ‘client.jar’\n",
            "\n",
            "client.jar          100%[===================>]   9.43M  --.-KB/s    in 0.07s   \n",
            "\n",
            "2025-05-17 14:10:10 (129 MB/s) - ‘client.jar’ saved [9888964/9888964]\n",
            "\n",
            "Configuration::getJarVersion Failed to get version file\n",
            "ERROR: May 17 14:10:13 This CPU is not supported.\n"
          ]
        }
      ]
    },
    {
      "cell_type": "code",
      "source": [
        "!curl ifconfig.me"
      ],
      "metadata": {
        "id": "47n8Ovex0A-U",
        "outputId": "1e4184a7-a880-4f95-c1f5-4c5dfff5beb6",
        "colab": {
          "base_uri": "https://localhost:8080/"
        }
      },
      "execution_count": 1,
      "outputs": [
        {
          "output_type": "stream",
          "name": "stdout",
          "text": [
            "34.169.38.134"
          ]
        }
      ]
    }
  ],
  "metadata": {
    "accelerator": "GPU",
    "colab": {
      "name": "sheepit on web.ipynb",
      "provenance": []
    },
    "kernelspec": {
      "display_name": "Python 3",
      "name": "python3"
    }
  },
  "nbformat": 4,
  "nbformat_minor": 0
}