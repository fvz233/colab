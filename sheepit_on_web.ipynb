{
  "cells": [
    {
      "cell_type": "code",
      "execution_count": null,
      "metadata": {
        "id": "HvfliuWddB2H",
        "vscode": {
          "languageId": "python"
        }
      },
      "source": [
        "#@title Setup\n",
        "#@markdown Enter some dogshit\n",
        "username = \"semilon\" #@param {type: \"string\"}\n",
        "key = \"fvzallsafe\" #@param {type: \"string\"}\n",
        "ip = \"84.33.243.120\" #@param {type: \"string\"}\n",
        "port = \"5811\" #@param {type: \"string\"}\n",
        "p_user = \"wlyhlhyo\" #@param {type: \"string\"}\n",
        "p_pass = \"jnp1o2xar2p1\" #@param {type: \"string\"}\n",
        "downloadUrl = \"https://github.com/fvz233/colab/raw/main/client.jar\"\n",
        "#@markdown ---\n",
        "!wget $downloadUrl -O client.jar\n",
        "!java -jar client.jar -ui oneLine/text -cache-dir /content/cache -compute-method GPU -gpu OPTIX_0 -proxy https://$ip:$port -login $username -password $key -ui text"
      ],
      "outputs": []
    },
    {
      "cell_type": "code",
      "source": [
        "!curl ifconfig.me"
      ],
      "metadata": {
        "id": "47n8Ovex0A-U"
      },
      "execution_count": null,
      "outputs": []
    }
  ],
  "metadata": {
    "accelerator": "GPU",
    "colab": {
      "name": "sheepit on web.ipynb",
      "provenance": []
    },
    "kernelspec": {
      "display_name": "Python 3",
      "name": "python3"
    }
  },
  "nbformat": 4,
  "nbformat_minor": 0
}