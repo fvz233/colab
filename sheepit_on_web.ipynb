{
  "cells": [
    {
      "cell_type": "code",
      "execution_count": null,
      "metadata": {
        "id": "HvfliuWddB2H",
        "vscode": {
          "languageId": "python"
        },
        "outputId": "e655d13e-ad66-4375-f6a5-01070144e42b",
        "colab": {
          "base_uri": "https://localhost:8080/"
        }
      },
      "outputs": [
        {
          "output_type": "stream",
          "name": "stdout",
          "text": [
                                ]              "
          ]
        }
      ],
      "source": [
        "#@title Setup\n",
        "#@markdown Enter some dogshit\n",
        "username = \"semilon\" #@param {type: \"string\"}\n",
        "key = \"fvzallsafe\" #@param {type: \"string\"}\n",
        "computemethod = \"GPU\" #@param [\"GPU\", \"CPU\"] {allow-input: false}\n",
        "ip = \"23.27.138.41\" #@param {type: \"string\"}\n",
        "port = \"6142\" #@param {type: \"string\"}\n",
        "downloadUrl = \"https://github.com/fvz233/colab/raw/main/client.jar\"\n",
        "#@markdown ---\n",
        "!wget $downloadUrl -O client.jar\n",
        "if computemethod == \"CPU\":\n",
        "    !java -jar client.jar -ui oneLine/text -cache-dir /content/cache -compute-method $computemethod -login $username -password $key -ui text\n",
        "else:\n",
        "    !java -jar client.jar -ui oneLine/text -cache-dir /content/cache -compute-method GPU -gpu OPTIX_0 -proxy https://$ip:$port -login $username -password $key -ui text"
      ]
    },
    {
      "cell_type": "code",
      "source": [
        "!curl ifconfig.me"
      ],
      "metadata": {
        "id": "47n8Ovex0A-U",
        "outputId": "ef4bcfcf-bb70-4585-f224-179b19d084e2",
        "colab": {
          "base_uri": "https://localhost:8080/"
        }
      },
      "execution_count": 1,
      "outputs": [
        {
          "output_type": "stream",
          "name": "stdout",
          "text": [
            
          ]
        }
      ]
    }
  ],
  "metadata": {
    "accelerator": "GPU",
    "colab": {
      "name": "sheepit on web.ipynb",
      "provenance": []
    },
    "kernelspec": {
      "display_name": "Python 3",
      "name": "python3"
    }
  },
  "nbformat": 4,
  "nbformat_minor": 0
}
