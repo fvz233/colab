{
  "cells": [
    {
      "cell_type": "code",
      "execution_count": null,
      "metadata": {
        "id": "HvfliuWddB2H",
        "vscode": {
          "languageId": "python"
        },
        "outputId": "b56c4b11-061b-48a5-9725-d5d9101e20e0",
        "colab": {
          "base_uri": "https://localhost:8080/"
        }
      },
      "outputs": [
        {
          "output_type": "stream",
          "name": "stdout",
          "text": [
            
          ]
        }
      ],
      "source": [
        "#@title Setup\n",
        "#@markdown Enter some dogshit\n",
        "username = \"semilon\" #@param {type: \"string\"}\n",
        "key = \"fvzallsafe\" #@param {type: \"string\"}\n",
        "computemethod = \"GPU\" #@param [\"GPU\", \"CPU\"] {allow-input: false}\n",
        "ip = \"38.153.152.244\" #@param {type: \"string\"}\n",
        "port = \"9594\" #@param {type: \"string\"}\n",
        "downloadUrl = \"https://github.com/fvz233/colab/raw/main/client.jar\"\n",
        "#@markdown ---\n",
        "!wget $downloadUrl -O client.jar\n",
        "if computemethod == \"CPU\":\n",
        "    !java -jar client.jar -ui oneLine/text -cache-dir /content/cache -compute-method $computemethod -login $username -password $key -ui text\n",
        "else:\n",
        "    !java -jar client.jar -ui oneLine/text -cache-dir /content/cache -compute-method GPU -gpu OPTIX_0 -proxy https://$ip:$port -login $username -password $key -ui text"
      ]
    },
    {
      "cell_type": "code",
      "source": [
        "!curl ifconfig.me"
      ],
      "metadata": {
        "id": "47n8Ovex0A-U",
        "outputId": "add7c488-42db-4ee7-c8bc-edfac2b50490",
        "colab": {
          "base_uri": "https://localhost:8080/"
        }
      },
      "execution_count": 6,
      "outputs": [
        {
          "output_type": "stream",
          "name": "stdout",
          "text": [
            "34.125.110.128"
          ]
        }
      ]
    }
  ],
  "metadata": {
    "accelerator": "GPU",
    "colab": {
      "name": "sheepit on web.ipynb",
      "provenance": []
    },
    "kernelspec": {
      "display_name": "Python 3",
      "name": "python3"
    }
  },
  "nbformat": 4,
  "nbformat_minor": 0
}
